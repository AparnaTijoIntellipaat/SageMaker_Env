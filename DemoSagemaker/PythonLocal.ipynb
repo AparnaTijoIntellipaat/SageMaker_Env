{
 "cells": [
  {
   "cell_type": "code",
   "execution_count": 2,
   "id": "837dd12a-7318-4e16-84f1-2402d5a76d0c",
   "metadata": {},
   "outputs": [
    {
     "name": "stdout",
     "output_type": "stream",
     "text": [
      "\n",
      "Overall Classification Rate: 40.0%\n",
      "\n",
      "Predicted      No Purchase    Purchase\n",
      "Observed\n",
      "No Purchase    40% (2)    60% (3)\n",
      "Purchase        60% (3)     40% (2) \n",
      "\n"
     ]
    }
   ],
   "source": [
    "import pandas as pd\n",
    "import numpy as np\n",
    "\n",
    "# Define test_data with some sample data\n",
    "test_data = pd.DataFrame({\n",
    "    'y_yes': [0, 1, 0, 1, 0, 1, 0, 1, 0, 1]  # Example binary classification labels\n",
    "})\n",
    "\n",
    "# Simulate predictions ensuring length matches the test data\n",
    "predictions_array = np.random.rand(len(test_data))  # Simulated predictions\n",
    "\n",
    "# Round predictions to binary values (0 or 1) if this is a binary classification problem\n",
    "predictions_array = np.round(predictions_array).astype(int)\n",
    "\n",
    "# Create confusion matrix and classification report\n",
    "# Ensure that test_data and predictions_array have the same length\n",
    "if len(test_data['y_yes']) != len(predictions_array):\n",
    "    raise ValueError(\"Length of predictions_array does not match length of test_data['y_yes']\")\n",
    "\n",
    "cm = pd.crosstab(index=test_data['y_yes'], columns=predictions_array, rownames=['Observed'], colnames=['Predicted'])\n",
    "\n",
    "# Handling cases where cm might not have all required values\n",
    "tn = cm.loc[0, 0] if 0 in cm.index and 0 in cm.columns else 0\n",
    "fn = cm.loc[1, 0] if 1 in cm.index and 0 in cm.columns else 0\n",
    "tp = cm.loc[1, 1] if 1 in cm.index and 1 in cm.columns else 0\n",
    "fp = cm.loc[0, 1] if 0 in cm.index and 1 in cm.columns else 0\n",
    "\n",
    "# Calculate overall classification rate\n",
    "p = (tp + tn) / (tp + tn + fp + fn) * 100 if (tp + tn + fp + fn) > 0 else 0\n",
    "print(\"\\n{0:<20}{1:<4.1f}%\\n\".format(\"Overall Classification Rate: \", p))\n",
    "print(\"{0:<15}{1:<15}{2:>8}\".format(\"Predicted\", \"No Purchase\", \"Purchase\"))\n",
    "print(\"Observed\")\n",
    "print(\"{0:<15}{1:<2.0f}% ({2:<}){3:>6.0f}% ({4:<})\".format(\"No Purchase\", tn / (tn + fn) * 100, tn, fp / (tp + fp) * 100, fp))\n",
    "print(\"{0:<16}{1:<1.0f}% ({2:<}){3:>7.0f}% ({4:<}) \\n\".format(\"Purchase\", fn / (tn + fn) * 100, fn, tp / (tp + fp) * 100, tp))\n"
   ]
  },
  {
   "cell_type": "code",
   "execution_count": null,
   "id": "d9b1a956-3258-4ffc-81a0-85feecc3806e",
   "metadata": {},
   "outputs": [],
   "source": []
  }
 ],
 "metadata": {
  "kernelspec": {
   "display_name": "Python 3 (ipykernel)",
   "language": "python",
   "name": "python3"
  },
  "language_info": {
   "codemirror_mode": {
    "name": "ipython",
    "version": 3
   },
   "file_extension": ".py",
   "mimetype": "text/x-python",
   "name": "python",
   "nbconvert_exporter": "python",
   "pygments_lexer": "ipython3",
   "version": "3.12.4"
  }
 },
 "nbformat": 4,
 "nbformat_minor": 5
}
